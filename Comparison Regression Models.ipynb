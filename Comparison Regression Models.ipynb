{
 "cells": [
  {
   "cell_type": "code",
   "execution_count": 4,
   "id": "b6a28918",
   "metadata": {},
   "outputs": [],
   "source": [
    "import numpy as np\n",
    "import matplotlib.pyplot as plt\n",
    "import pandas as pd\n",
    "\n",
    "X = 2 * np.random.rand(100, 1)\n",
    "X_b = np.c_[np.ones((100,1)), X]\n",
    "y = 4 + 3 * X + np.random.randn(100, 1)\n",
    "\n",
    "def lin_reg(X, Y):\n",
    "    \n",
    "    #least square linear regression\n",
    "    \n",
    "    m = (len(X)*np.dot(X,Y)-(np.sum(X)*np.sum(Y)))/((len(X)*np.sum([num**2 for num in X]))-(np.sum(X)**2))\n",
    "    b = (np.sum(Y) - m*np.sum(X))/len(X)\n",
    "    \n",
    "    return [float(m)*x+b for x in X]\n",
    "    \n",
    "    \n",
    "    \n",
    "def lin_reg_GD(X, Y, learning_rate, n_iterations):\n",
    "    \n",
    "    \n",
    "    X_b = np.c_[np.ones((100,1)), X] #add X0 to X vector\n",
    "    m = len(X)\n",
    "    \n",
    "    #Randomly Initialize theta\n",
    "    theta = np.random.randn(2,1)\n",
    "\n",
    "    #determine theta values iteratively\n",
    "    for iteration in range(n_iterations):\n",
    "        gradients = 2/m * X_b.T.dot(X_b.dot(theta)-y)\n",
    "        theta = theta - learning_rate*gradients \n",
    "    \n",
    "    return theta\n",
    "    \n",
    "    "
   ]
  },
  {
   "cell_type": "code",
   "execution_count": 6,
   "id": "579c1a37",
   "metadata": {},
   "outputs": [],
   "source": [
    "weights = lin_reg_GD(X, y, .1, 1000)"
   ]
  },
  {
   "cell_type": "code",
   "execution_count": 7,
   "id": "a2cf21cd",
   "metadata": {},
   "outputs": [],
   "source": [
    "y_GD_pred = weights[0]*X + weights[1]"
   ]
  },
  {
   "cell_type": "code",
   "execution_count": 9,
   "id": "284c3ee6",
   "metadata": {},
   "outputs": [
    {
     "data": {
      "image/png": "[encoded data removed]",
      "text/plain": [
       "<Figure size 432x288 with 1 Axes>"
      ]
     },
     "metadata": {
      "needs_background": "light"
     },
     "output_type": "display_data"
    }
   ],
   "source": [
    "plt.plot(X, y_GD_pred)\n",
    "plt.plot(X, y, \"b.\")\n",
    "plt.show()"
   ]
  },
  {
   "cell_type": "code",
   "execution_count": null,
   "id": "a503d5a9",
   "metadata": {},
   "outputs": [],
   "source": []
  }
 ],
 "metadata": {
  "kernelspec": {
   "display_name": "Python 3",
   "language": "python",
   "name": "python3"
  },
  "language_info": {
   "codemirror_mode": {
    "name": "ipython",
    "version": 3
   },
   "file_extension": ".py",
   "mimetype": "text/x-python",
   "name": "python",
   "nbconvert_exporter": "python",
   "pygments_lexer": "ipython3",
   "version": "3.9.4"
  }
 },
 "nbformat": 4,
 "nbformat_minor": 5
}
